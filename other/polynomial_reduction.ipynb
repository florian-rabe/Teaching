{
  "metadata": {
    "kernelspec": {
      "name": "python",
      "display_name": "Python (Pyodide)",
      "language": "python"
    },
    "language_info": {
      "codemirror_mode": {
        "name": "python",
        "version": 3
      },
      "file_extension": ".py",
      "mimetype": "text/x-python",
      "name": "python",
      "nbconvert_exporter": "python",
      "pygments_lexer": "ipython3",
      "version": "3.8"
    }
  },
  "nbformat_minor": 5,
  "nbformat": 4,
  "cells": [
    {
      "cell_type": "code",
      "source": "# Konjunktion von Formeln (in SMTLIB-Syntax)\ndef AND(formeln):\n    if formeln == []:\n        return \"true\"\n    else:\n        return \"(and \" + \" \".join(formeln) + \")\"\n# Disjunktion von Formeln (in SMTLIB-Syntax)\ndef OR(formeln):\n    if formeln == []:\n        return \"false\"\n    else:\n        return \"(or \" + \" \".join(formeln) + \")\"\n# Negation einer Formel (in SMTLIB-Syntax)\ndef NOT(formel):\n    return \"(not \" + formel + \")\"\n# Implikation formel1 => formel2 (in SMTLIB-Syntax)\ndef IMPL(formel1,formel2):\n    return \"(=> \" + formel1 + \" \" + formel2 + \")\"\n\n# eine propositional Formel als Input für SAT (in SMTLIB-Syntax)\ndef SATInput(variablen, formel):\n    return \"\".join([\"(declare-fun \" + v + \" () Bool)\\n\" for v in variablen]) + \"(assert \" + formel + \")\\n\" + \"(check-sat)(get-model)\"\n\n# reduziert HamiltonPath für Graph G auf SAT, G gegeben als Listen Kno von Knoten und Kan von Kanten (k,l)\ndef HS(Kno,Kan):\n    # die Anzahl der Knoten\n    N = len(Kno)\n    # die Liste der Positionen im Pfad\n    Positionen = range(N)\n    # successors[k] ist die Liste der k', so dass G die Kante (k,l) hat\n    succ = {}\n    for k in Kno:\n        succ[k] = []\n    for (k,l) in Kan:\n         succ[k].append(l)\n            \n    def Pos(k,p):\n        return \"pos_\" + str(k) + \"_\" + str(p)\n    \n    # die Liste der propositionalen Variablen\n    variablen = [Pos(k,p) for k in Kno for p in range(N)]\n    \n    # Bauen der Teil-Formeln\n    \n    jedePositionHatEinenKnoten = AND([OR([Pos(k,p) for k in Kno]) for p in Positionen])\n    \n    # nicht k und l an Position p\n    def nichtInGleicherPosition(k,l,p):\n        return NOT(AND([Pos(k,p), Pos(l,p)]))\n    keinePositionHatZweiKnoten = AND([nichtInGleicherPosition(k,l,p) for p in Positionen for k in Kno for l in Kno if k != l])\n    \n    jederKnotenIstEinmalImPfad = AND([OR([Pos(k,p) for p in Positionen]) for k in Kno])\n    \n    # nicht k an Positionen p und q\n    def nichtAnZweiPositionen(k,p,q):\n        return NOT(AND([Pos(k,p), Pos(k,q)]))\n    keinKnotenIstZweimalImPfad = AND([nichtAnZweiPositionen(k,p,q) for k in Kno for p in Positionen for q in Positionen if p != q])\n    \n    # wenn k an Position p, dann successor von k an Position p+1\n    def folgePositionHatNachfolger(k,p):\n        return IMPL(Pos(k,p), OR([Pos(l,p+1) for l in succ[k]]))\n    alleFolgePositionenHabenNachfolger = AND([folgePositionHatNachfolger(k,p) for k in Kno for p in range(N-1)])\n    \n    # HS(G): Konjunktion aller Teilformeln\n    isHamiltonPfad = AND([jedePositionHatEinenKnoten, keinePositionHatZweiKnoten, jederKnotenIstEinmalImPfad, keinKnotenIstZweimalImPfad, alleFolgePositionenHabenNachfolger])\n    \n    # Formatierung als SMTLIB-Problem\n    return SATInput(variablen, isHamiltonPfad)\n\nHS([\"A\",\"B\",\"C\"], [(\"A\",\"B\"), (\"A\",\"C\")])",
      "metadata": {
        "trusted": true
      },
      "execution_count": 1,
      "outputs": [
        {
          "execution_count": 1,
          "output_type": "execute_result",
          "data": {
            "text/plain": "'(declare-fun pos_A_0 () Bool)\\n(declare-fun pos_A_1 () Bool)\\n(declare-fun pos_A_2 () Bool)\\n(declare-fun pos_B_0 () Bool)\\n(declare-fun pos_B_1 () Bool)\\n(declare-fun pos_B_2 () Bool)\\n(declare-fun pos_C_0 () Bool)\\n(declare-fun pos_C_1 () Bool)\\n(declare-fun pos_C_2 () Bool)\\n(assert (and (and (or pos_A_0 pos_B_0 pos_C_0) (or pos_A_1 pos_B_1 pos_C_1) (or pos_A_2 pos_B_2 pos_C_2)) (and (not (and pos_A_0 pos_B_0)) (not (and pos_A_0 pos_C_0)) (not (and pos_B_0 pos_A_0)) (not (and pos_B_0 pos_C_0)) (not (and pos_C_0 pos_A_0)) (not (and pos_C_0 pos_B_0)) (not (and pos_A_1 pos_B_1)) (not (and pos_A_1 pos_C_1)) (not (and pos_B_1 pos_A_1)) (not (and pos_B_1 pos_C_1)) (not (and pos_C_1 pos_A_1)) (not (and pos_C_1 pos_B_1)) (not (and pos_A_2 pos_B_2)) (not (and pos_A_2 pos_C_2)) (not (and pos_B_2 pos_A_2)) (not (and pos_B_2 pos_C_2)) (not (and pos_C_2 pos_A_2)) (not (and pos_C_2 pos_B_2))) (and (or pos_A_0 pos_A_1 pos_A_2) (or pos_B_0 pos_B_1 pos_B_2) (or pos_C_0 pos_C_1 pos_C_2)) (and (not (and pos_A_0 pos_A_1)) (not (and pos_A_0 pos_A_2)) (not (and pos_A_1 pos_A_0)) (not (and pos_A_1 pos_A_2)) (not (and pos_A_2 pos_A_0)) (not (and pos_A_2 pos_A_1)) (not (and pos_B_0 pos_B_1)) (not (and pos_B_0 pos_B_2)) (not (and pos_B_1 pos_B_0)) (not (and pos_B_1 pos_B_2)) (not (and pos_B_2 pos_B_0)) (not (and pos_B_2 pos_B_1)) (not (and pos_C_0 pos_C_1)) (not (and pos_C_0 pos_C_2)) (not (and pos_C_1 pos_C_0)) (not (and pos_C_1 pos_C_2)) (not (and pos_C_2 pos_C_0)) (not (and pos_C_2 pos_C_1))) (and (=> pos_A_0 (or pos_B_1 pos_C_1)) (=> pos_A_1 (or pos_B_2 pos_C_2)) (=> pos_B_0 false) (=> pos_B_1 false) (=> pos_C_0 false) (=> pos_C_1 false))))\\n(check-sat)(get-model)'"
          },
          "metadata": {}
        }
      ],
      "id": "c01c05c2-4feb-4ef6-99f9-5c2dc40192b7"
    }
  ]
}